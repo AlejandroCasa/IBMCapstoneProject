{
 "cells": [
  {
   "cell_type": "markdown",
   "metadata": {},
   "source": [
    "\n",
    "# Segmenting and Clustering Neighborhoods in Toronto\n",
    "\n",
    "## Introduction\n",
    "\n",
    "This notebook contains \"Segmenting and Clustering Neighborhoods in Toronto\" assignment as a part of Applied Data Science Capstone\n"
   ]
  },
  {
   "cell_type": "code",
   "execution_count": 29,
   "metadata": {},
   "outputs": [
    {
     "name": "stdout",
     "output_type": "stream",
     "text": [
      "Requirement already satisfied: geopy in c:\\users\\acasa\\anaconda3\\lib\\site-packages (2.0.0)\n",
      "Requirement already satisfied: geographiclib<2,>=1.49 in c:\\users\\acasa\\anaconda3\\lib\\site-packages (from geopy) (1.50)\n"
     ]
    },
    {
     "name": "stderr",
     "output_type": "stream",
     "text": [
      "WARNING: You are using pip version 20.2.3; however, version 20.3.1 is available.\n",
      "You should consider upgrading via the 'c:\\users\\acasa\\anaconda3\\python.exe -m pip install --upgrade pip' command.\n"
     ]
    },
    {
     "name": "stdout",
     "output_type": "stream",
     "text": [
      "Collecting geocoder\n",
      "  Downloading geocoder-1.38.1-py2.py3-none-any.whl (98 kB)\n",
      "Requirement already satisfied: click in c:\\users\\acasa\\anaconda3\\lib\\site-packages (from geocoder) (7.0)\n",
      "Requirement already satisfied: future in c:\\users\\acasa\\anaconda3\\lib\\site-packages (from geocoder) (0.18.2)\n",
      "Requirement already satisfied: six in c:\\users\\acasa\\anaconda3\\lib\\site-packages (from geocoder) (1.14.0)\n",
      "Collecting ratelim\n",
      "  Downloading ratelim-0.1.6-py2.py3-none-any.whl (4.0 kB)\n",
      "Requirement already satisfied: requests in c:\\users\\acasa\\anaconda3\\lib\\site-packages (from geocoder) (2.22.0)\n",
      "Requirement already satisfied: decorator in c:\\users\\acasa\\anaconda3\\lib\\site-packages (from ratelim->geocoder) (4.4.1)\n",
      "Requirement already satisfied: certifi>=2017.4.17 in c:\\users\\acasa\\anaconda3\\lib\\site-packages (from requests->geocoder) (2019.11.28)\n",
      "Requirement already satisfied: chardet<3.1.0,>=3.0.2 in c:\\users\\acasa\\anaconda3\\lib\\site-packages (from requests->geocoder) (3.0.4)\n",
      "Requirement already satisfied: urllib3!=1.25.0,!=1.25.1,<1.26,>=1.21.1 in c:\\users\\acasa\\anaconda3\\lib\\site-packages (from requests->geocoder) (1.25.8)\n",
      "Requirement already satisfied: idna<2.9,>=2.5 in c:\\users\\acasa\\anaconda3\\lib\\site-packages (from requests->geocoder) (2.8)\n",
      "Installing collected packages: ratelim, geocoder\n",
      "Successfully installed geocoder-1.38.1 ratelim-0.1.6\n"
     ]
    },
    {
     "name": "stderr",
     "output_type": "stream",
     "text": [
      "WARNING: You are using pip version 20.2.3; however, version 20.3.1 is available.\n",
      "You should consider upgrading via the 'c:\\users\\acasa\\anaconda3\\python.exe -m pip install --upgrade pip' command.\n"
     ]
    }
   ],
   "source": [
    "import numpy as np\n",
    "import pandas as pd\n",
    "from datetime import datetime\n",
    "\n",
    "!pip install geopy\n",
    "!pip install geocoder\n",
    "#pip install folium\n",
    "#pip install beautifulsoup4\n",
    "\n",
    "from bs4 import BeautifulSoup\n",
    "import requests\n",
    "\n",
    "from geopy.geocoders import Nominatim\n",
    "import folium\n",
    "\n",
    "import geocoder\n",
    "\n",
    "from sklearn.cluster import KMeans"
   ]
  },
  {
   "cell_type": "code",
   "execution_count": 2,
   "metadata": {},
   "outputs": [],
   "source": [
    "#fetching the content from the url\n",
    "response = requests.get(\n",
    "    url=\"https://en.wikipedia.org/wiki/List_of_postal_codes_of_Canada:_M\"\n",
    ")"
   ]
  },
  {
   "cell_type": "code",
   "execution_count": 3,
   "metadata": {},
   "outputs": [],
   "source": [
    "#using Beautifulsoap to read the response content \n",
    "soup = BeautifulSoup(response.content, 'html.parser')"
   ]
  },
  {
   "cell_type": "code",
   "execution_count": 4,
   "metadata": {},
   "outputs": [],
   "source": [
    "#taking out the table content and storing it in local variable\n",
    "table = soup.table\n",
    "#create a dataframe out of table\n",
    "df = pd.read_html(str(table))[0]"
   ]
  },
  {
   "cell_type": "code",
   "execution_count": 6,
   "metadata": {},
   "outputs": [
    {
     "name": "stdout",
     "output_type": "stream",
     "text": [
      "Index(['Postal Code', 'Borough', 'Neighbourhood'], dtype='object')\n",
      "The dataframew has 11 boroughs and 180 neighbiourhoods\n"
     ]
    },
    {
     "data": {
      "text/html": [
       "<div>\n",
       "<style scoped>\n",
       "    .dataframe tbody tr th:only-of-type {\n",
       "        vertical-align: middle;\n",
       "    }\n",
       "\n",
       "    .dataframe tbody tr th {\n",
       "        vertical-align: top;\n",
       "    }\n",
       "\n",
       "    .dataframe thead th {\n",
       "        text-align: right;\n",
       "    }\n",
       "</style>\n",
       "<table border=\"1\" class=\"dataframe\">\n",
       "  <thead>\n",
       "    <tr style=\"text-align: right;\">\n",
       "      <th></th>\n",
       "      <th>Postal Code</th>\n",
       "      <th>Borough</th>\n",
       "      <th>Neighbourhood</th>\n",
       "    </tr>\n",
       "  </thead>\n",
       "  <tbody>\n",
       "    <tr>\n",
       "      <th>0</th>\n",
       "      <td>M1A</td>\n",
       "      <td>Not assigned</td>\n",
       "      <td>Not assigned</td>\n",
       "    </tr>\n",
       "    <tr>\n",
       "      <th>1</th>\n",
       "      <td>M2A</td>\n",
       "      <td>Not assigned</td>\n",
       "      <td>Not assigned</td>\n",
       "    </tr>\n",
       "    <tr>\n",
       "      <th>2</th>\n",
       "      <td>M3A</td>\n",
       "      <td>North York</td>\n",
       "      <td>Parkwoods</td>\n",
       "    </tr>\n",
       "    <tr>\n",
       "      <th>3</th>\n",
       "      <td>M4A</td>\n",
       "      <td>North York</td>\n",
       "      <td>Victoria Village</td>\n",
       "    </tr>\n",
       "    <tr>\n",
       "      <th>4</th>\n",
       "      <td>M5A</td>\n",
       "      <td>Downtown Toronto</td>\n",
       "      <td>Regent Park, Harbourfront</td>\n",
       "    </tr>\n",
       "  </tbody>\n",
       "</table>\n",
       "</div>"
      ],
      "text/plain": [
       "  Postal Code           Borough              Neighbourhood\n",
       "0         M1A      Not assigned               Not assigned\n",
       "1         M2A      Not assigned               Not assigned\n",
       "2         M3A        North York                  Parkwoods\n",
       "3         M4A        North York           Victoria Village\n",
       "4         M5A  Downtown Toronto  Regent Park, Harbourfront"
      ]
     },
     "execution_count": 6,
     "metadata": {},
     "output_type": "execute_result"
    }
   ],
   "source": [
    "#The dataframe will consist of three columns: PostalCode, Borough, and Neighborhood\n",
    "print(df.columns)\n",
    "print('The dataframew has {} boroughs and {} neighbiourhoods'.format(len(df['Borough'].unique()),df.shape[0]))\n",
    "df.head(5)"
   ]
  },
  {
   "cell_type": "code",
   "execution_count": 9,
   "metadata": {},
   "outputs": [
    {
     "data": {
      "text/html": [
       "<div>\n",
       "<style scoped>\n",
       "    .dataframe tbody tr th:only-of-type {\n",
       "        vertical-align: middle;\n",
       "    }\n",
       "\n",
       "    .dataframe tbody tr th {\n",
       "        vertical-align: top;\n",
       "    }\n",
       "\n",
       "    .dataframe thead th {\n",
       "        text-align: right;\n",
       "    }\n",
       "</style>\n",
       "<table border=\"1\" class=\"dataframe\">\n",
       "  <thead>\n",
       "    <tr style=\"text-align: right;\">\n",
       "      <th></th>\n",
       "      <th>Postal Code</th>\n",
       "      <th>Borough</th>\n",
       "      <th>Neighbourhood</th>\n",
       "    </tr>\n",
       "  </thead>\n",
       "  <tbody>\n",
       "    <tr>\n",
       "      <th>0</th>\n",
       "      <td>M3A</td>\n",
       "      <td>North York</td>\n",
       "      <td>Parkwoods</td>\n",
       "    </tr>\n",
       "    <tr>\n",
       "      <th>1</th>\n",
       "      <td>M4A</td>\n",
       "      <td>North York</td>\n",
       "      <td>Victoria Village</td>\n",
       "    </tr>\n",
       "    <tr>\n",
       "      <th>2</th>\n",
       "      <td>M5A</td>\n",
       "      <td>Downtown Toronto</td>\n",
       "      <td>Regent Park, Harbourfront</td>\n",
       "    </tr>\n",
       "    <tr>\n",
       "      <th>3</th>\n",
       "      <td>M6A</td>\n",
       "      <td>North York</td>\n",
       "      <td>Lawrence Manor, Lawrence Heights</td>\n",
       "    </tr>\n",
       "    <tr>\n",
       "      <th>4</th>\n",
       "      <td>M7A</td>\n",
       "      <td>Downtown Toronto</td>\n",
       "      <td>Queen's Park, Ontario Provincial Government</td>\n",
       "    </tr>\n",
       "  </tbody>\n",
       "</table>\n",
       "</div>"
      ],
      "text/plain": [
       "  Postal Code           Borough                                Neighbourhood\n",
       "0         M3A        North York                                    Parkwoods\n",
       "1         M4A        North York                             Victoria Village\n",
       "2         M5A  Downtown Toronto                    Regent Park, Harbourfront\n",
       "3         M6A        North York             Lawrence Manor, Lawrence Heights\n",
       "4         M7A  Downtown Toronto  Queen's Park, Ontario Provincial Government"
      ]
     },
     "execution_count": 9,
     "metadata": {},
     "output_type": "execute_result"
    }
   ],
   "source": [
    "#Only process the cells that have an assigned borough. Ignore cells with a borough that is Not assigned.\n",
    "df = df[df.Borough != 'Not assigned'].reset_index(drop=True)\n",
    "df.head(5)"
   ]
  },
  {
   "cell_type": "code",
   "execution_count": 10,
   "metadata": {},
   "outputs": [
    {
     "data": {
      "text/html": [
       "<div>\n",
       "<style scoped>\n",
       "    .dataframe tbody tr th:only-of-type {\n",
       "        vertical-align: middle;\n",
       "    }\n",
       "\n",
       "    .dataframe tbody tr th {\n",
       "        vertical-align: top;\n",
       "    }\n",
       "\n",
       "    .dataframe thead th {\n",
       "        text-align: right;\n",
       "    }\n",
       "</style>\n",
       "<table border=\"1\" class=\"dataframe\">\n",
       "  <thead>\n",
       "    <tr style=\"text-align: right;\">\n",
       "      <th></th>\n",
       "      <th>Postal Code</th>\n",
       "      <th>Borough</th>\n",
       "      <th>Neighbourhood</th>\n",
       "    </tr>\n",
       "  </thead>\n",
       "  <tbody>\n",
       "    <tr>\n",
       "      <th>0</th>\n",
       "      <td>M3A</td>\n",
       "      <td>North York</td>\n",
       "      <td>Parkwoods</td>\n",
       "    </tr>\n",
       "    <tr>\n",
       "      <th>1</th>\n",
       "      <td>M4A</td>\n",
       "      <td>North York</td>\n",
       "      <td>Victoria Village</td>\n",
       "    </tr>\n",
       "    <tr>\n",
       "      <th>2</th>\n",
       "      <td>M5A</td>\n",
       "      <td>Downtown Toronto</td>\n",
       "      <td>Regent Park, Harbourfront</td>\n",
       "    </tr>\n",
       "    <tr>\n",
       "      <th>3</th>\n",
       "      <td>M6A</td>\n",
       "      <td>North York</td>\n",
       "      <td>Lawrence Manor, Lawrence Heights</td>\n",
       "    </tr>\n",
       "    <tr>\n",
       "      <th>4</th>\n",
       "      <td>M7A</td>\n",
       "      <td>Downtown Toronto</td>\n",
       "      <td>Queen's Park, Ontario Provincial Government</td>\n",
       "    </tr>\n",
       "  </tbody>\n",
       "</table>\n",
       "</div>"
      ],
      "text/plain": [
       "  Postal Code           Borough                                Neighbourhood\n",
       "0         M3A        North York                                    Parkwoods\n",
       "1         M4A        North York                             Victoria Village\n",
       "2         M5A  Downtown Toronto                    Regent Park, Harbourfront\n",
       "3         M6A        North York             Lawrence Manor, Lawrence Heights\n",
       "4         M7A  Downtown Toronto  Queen's Park, Ontario Provincial Government"
      ]
     },
     "execution_count": 10,
     "metadata": {},
     "output_type": "execute_result"
    }
   ],
   "source": [
    "df.groupby(['Postal Code','Borough'])['Neighbourhood'].apply(', '.join).reset_index(drop=True)\n",
    "df.head(5)"
   ]
  },
  {
   "cell_type": "code",
   "execution_count": 13,
   "metadata": {},
   "outputs": [
    {
     "data": {
      "text/html": [
       "<div>\n",
       "<style scoped>\n",
       "    .dataframe tbody tr th:only-of-type {\n",
       "        vertical-align: middle;\n",
       "    }\n",
       "\n",
       "    .dataframe tbody tr th {\n",
       "        vertical-align: top;\n",
       "    }\n",
       "\n",
       "    .dataframe thead th {\n",
       "        text-align: right;\n",
       "    }\n",
       "</style>\n",
       "<table border=\"1\" class=\"dataframe\">\n",
       "  <thead>\n",
       "    <tr style=\"text-align: right;\">\n",
       "      <th></th>\n",
       "      <th>Postal Code</th>\n",
       "      <th>Borough</th>\n",
       "      <th>Neighbourhood</th>\n",
       "    </tr>\n",
       "  </thead>\n",
       "  <tbody>\n",
       "    <tr>\n",
       "      <th>0</th>\n",
       "      <td>M3A</td>\n",
       "      <td>North York</td>\n",
       "      <td>Parkwoods</td>\n",
       "    </tr>\n",
       "    <tr>\n",
       "      <th>1</th>\n",
       "      <td>M4A</td>\n",
       "      <td>North York</td>\n",
       "      <td>Victoria Village</td>\n",
       "    </tr>\n",
       "    <tr>\n",
       "      <th>2</th>\n",
       "      <td>M5A</td>\n",
       "      <td>Downtown Toronto</td>\n",
       "      <td>Regent Park, Harbourfront</td>\n",
       "    </tr>\n",
       "    <tr>\n",
       "      <th>3</th>\n",
       "      <td>M6A</td>\n",
       "      <td>North York</td>\n",
       "      <td>Lawrence Manor, Lawrence Heights</td>\n",
       "    </tr>\n",
       "    <tr>\n",
       "      <th>4</th>\n",
       "      <td>M7A</td>\n",
       "      <td>Downtown Toronto</td>\n",
       "      <td>Queen's Park, Ontario Provincial Government</td>\n",
       "    </tr>\n",
       "  </tbody>\n",
       "</table>\n",
       "</div>"
      ],
      "text/plain": [
       "  Postal Code           Borough                                Neighbourhood\n",
       "0         M3A        North York                                    Parkwoods\n",
       "1         M4A        North York                             Victoria Village\n",
       "2         M5A  Downtown Toronto                    Regent Park, Harbourfront\n",
       "3         M6A        North York             Lawrence Manor, Lawrence Heights\n",
       "4         M7A  Downtown Toronto  Queen's Park, Ontario Provincial Government"
      ]
     },
     "execution_count": 13,
     "metadata": {},
     "output_type": "execute_result"
    }
   ],
   "source": [
    "mask = df['Neighbourhood'] == \"Not assigned\"\n",
    "df.loc[mask, 'Neighbourhood'] = df.loc[mask, 'Borough']\n",
    "df.head(5)"
   ]
  },
  {
   "cell_type": "code",
   "execution_count": 14,
   "metadata": {},
   "outputs": [
    {
     "data": {
      "text/plain": [
       "(103, 3)"
      ]
     },
     "execution_count": 14,
     "metadata": {},
     "output_type": "execute_result"
    }
   ],
   "source": [
    "df.shape"
   ]
  },
  {
   "cell_type": "code",
   "execution_count": 15,
   "metadata": {},
   "outputs": [],
   "source": [
    "lat_long = pd.read_csv('http://cocl.us/Geospatial_data')"
   ]
  },
  {
   "cell_type": "code",
   "execution_count": 16,
   "metadata": {},
   "outputs": [],
   "source": [
    "df1 = pd.merge(df, lat_long, on=\"Postal Code\")"
   ]
  },
  {
   "cell_type": "code",
   "execution_count": 17,
   "metadata": {},
   "outputs": [
    {
     "data": {
      "text/html": [
       "<div>\n",
       "<style scoped>\n",
       "    .dataframe tbody tr th:only-of-type {\n",
       "        vertical-align: middle;\n",
       "    }\n",
       "\n",
       "    .dataframe tbody tr th {\n",
       "        vertical-align: top;\n",
       "    }\n",
       "\n",
       "    .dataframe thead th {\n",
       "        text-align: right;\n",
       "    }\n",
       "</style>\n",
       "<table border=\"1\" class=\"dataframe\">\n",
       "  <thead>\n",
       "    <tr style=\"text-align: right;\">\n",
       "      <th></th>\n",
       "      <th>Postal Code</th>\n",
       "      <th>Borough</th>\n",
       "      <th>Neighbourhood</th>\n",
       "      <th>Latitude</th>\n",
       "      <th>Longitude</th>\n",
       "    </tr>\n",
       "  </thead>\n",
       "  <tbody>\n",
       "    <tr>\n",
       "      <th>0</th>\n",
       "      <td>M5A</td>\n",
       "      <td>Downtown Toronto</td>\n",
       "      <td>Regent Park, Harbourfront</td>\n",
       "      <td>43.654260</td>\n",
       "      <td>-79.360636</td>\n",
       "    </tr>\n",
       "    <tr>\n",
       "      <th>1</th>\n",
       "      <td>M7A</td>\n",
       "      <td>Downtown Toronto</td>\n",
       "      <td>Queen's Park, Ontario Provincial Government</td>\n",
       "      <td>43.662301</td>\n",
       "      <td>-79.389494</td>\n",
       "    </tr>\n",
       "    <tr>\n",
       "      <th>2</th>\n",
       "      <td>M5B</td>\n",
       "      <td>Downtown Toronto</td>\n",
       "      <td>Garden District, Ryerson</td>\n",
       "      <td>43.657162</td>\n",
       "      <td>-79.378937</td>\n",
       "    </tr>\n",
       "    <tr>\n",
       "      <th>3</th>\n",
       "      <td>M5C</td>\n",
       "      <td>Downtown Toronto</td>\n",
       "      <td>St. James Town</td>\n",
       "      <td>43.651494</td>\n",
       "      <td>-79.375418</td>\n",
       "    </tr>\n",
       "    <tr>\n",
       "      <th>4</th>\n",
       "      <td>M4E</td>\n",
       "      <td>East Toronto</td>\n",
       "      <td>The Beaches</td>\n",
       "      <td>43.676357</td>\n",
       "      <td>-79.293031</td>\n",
       "    </tr>\n",
       "  </tbody>\n",
       "</table>\n",
       "</div>"
      ],
      "text/plain": [
       "  Postal Code           Borough                                Neighbourhood  \\\n",
       "0         M5A  Downtown Toronto                    Regent Park, Harbourfront   \n",
       "1         M7A  Downtown Toronto  Queen's Park, Ontario Provincial Government   \n",
       "2         M5B  Downtown Toronto                     Garden District, Ryerson   \n",
       "3         M5C  Downtown Toronto                               St. James Town   \n",
       "4         M4E      East Toronto                                  The Beaches   \n",
       "\n",
       "    Latitude  Longitude  \n",
       "0  43.654260 -79.360636  \n",
       "1  43.662301 -79.389494  \n",
       "2  43.657162 -79.378937  \n",
       "3  43.651494 -79.375418  \n",
       "4  43.676357 -79.293031  "
      ]
     },
     "execution_count": 17,
     "metadata": {},
     "output_type": "execute_result"
    }
   ],
   "source": [
    "toronto_data = df1[df1['Borough'].str.contains('Toronto',regex=False)].reset_index(drop=True)\n",
    "toronto_data.head()"
   ]
  },
  {
   "cell_type": "code",
   "execution_count": 18,
   "metadata": {},
   "outputs": [
    {
     "name": "stdout",
     "output_type": "stream",
     "text": [
      "The dataframe has 4 boroughs and 39 Neighbourhood.\n"
     ]
    }
   ],
   "source": [
    "print('The dataframe has {} boroughs and {} Neighbourhood.'.format(\n",
    "        len(toronto_data['Borough'].unique()),\n",
    "        toronto_data.shape[0]\n",
    "    )\n",
    ")"
   ]
  },
  {
   "cell_type": "code",
   "execution_count": 22,
   "metadata": {},
   "outputs": [
    {
     "name": "stdout",
     "output_type": "stream",
     "text": [
      "The geograpical coordinate of Toronto are 43.6534817, -79.3839347.\n"
     ]
    }
   ],
   "source": [
    "city = 'Toronto'\n",
    "geolocator = Nominatim(user_agent=\"to_explorer\")\n",
    "location = geolocator.geocode(city)\n",
    "latitude = location.latitude\n",
    "longitude = location.longitude\n",
    "print('The geograpical coordinate of Toronto are {}, {}.'.format(latitude, longitude))"
   ]
  },
  {
   "cell_type": "code",
   "execution_count": 24,
   "metadata": {},
   "outputs": [],
   "source": [
    "map_toronto = folium.Map(location=[latitude, longitude], zoom_start=12)"
   ]
  },
  {
   "cell_type": "code",
   "execution_count": 25,
   "metadata": {},
   "outputs": [
    {
     "data": {
      "text/html": [
       "<div style=\"width:100%;\"><div style=\"position:relative;width:100%;height:0;padding-bottom:60%;\"><span style=\"color:#565656\">Make this Notebook Trusted to load map: File -> Trust Notebook</span><iframe src=\"about:blank\" style=\"position:absolute;width:100%;height:100%;left:0;top:0;border:none !important;\" data-html=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 onload=\"this.contentDocument.open();this.contentDocument.write(atob(this.getAttribute('data-html')));this.contentDocument.close();\" allowfullscreen webkitallowfullscreen mozallowfullscreen></iframe></div></div>"
      ],
      "text/plain": [
       "<folium.folium.Map at 0x232d3583ac8>"
      ]
     },
     "execution_count": 25,
     "metadata": {},
     "output_type": "execute_result"
    }
   ],
   "source": [
    "for latitude, longitude, borough, neighbourhood in zip(toronto_data.Latitude, toronto_data.Longitude, toronto_data.Borough, toronto_data.Neighbourhood):\n",
    "    folium.CircleMarker(\n",
    "        [latitude, longitude],\n",
    "        radius=5,\n",
    "        popup= '{}, {}'.format(neighbourhood, borough),\n",
    "        color='blue',\n",
    "        fill=False,\n",
    "        fill_color='#3186cc',\n",
    "        fill_opacity=0.7,\n",
    "        parse_html=False).add_to(map_toronto)\n",
    "map_toronto"
   ]
  },
  {
   "cell_type": "markdown",
   "metadata": {},
   "source": [
    "# Exploration of neightborhood"
   ]
  },
  {
   "cell_type": "code",
   "execution_count": 26,
   "metadata": {},
   "outputs": [
    {
     "data": {
      "text/html": [
       "<div>\n",
       "<style scoped>\n",
       "    .dataframe tbody tr th:only-of-type {\n",
       "        vertical-align: middle;\n",
       "    }\n",
       "\n",
       "    .dataframe tbody tr th {\n",
       "        vertical-align: top;\n",
       "    }\n",
       "\n",
       "    .dataframe thead th {\n",
       "        text-align: right;\n",
       "    }\n",
       "</style>\n",
       "<table border=\"1\" class=\"dataframe\">\n",
       "  <thead>\n",
       "    <tr style=\"text-align: right;\">\n",
       "      <th></th>\n",
       "      <th>Postal Code</th>\n",
       "      <th>Borough</th>\n",
       "      <th>Neighbourhood</th>\n",
       "      <th>Latitude</th>\n",
       "      <th>Longitude</th>\n",
       "    </tr>\n",
       "  </thead>\n",
       "  <tbody>\n",
       "    <tr>\n",
       "      <th>0</th>\n",
       "      <td>M5A</td>\n",
       "      <td>Downtown Toronto</td>\n",
       "      <td>Regent Park, Harbourfront</td>\n",
       "      <td>43.654260</td>\n",
       "      <td>-79.360636</td>\n",
       "    </tr>\n",
       "    <tr>\n",
       "      <th>1</th>\n",
       "      <td>M7A</td>\n",
       "      <td>Downtown Toronto</td>\n",
       "      <td>Queen's Park, Ontario Provincial Government</td>\n",
       "      <td>43.662301</td>\n",
       "      <td>-79.389494</td>\n",
       "    </tr>\n",
       "    <tr>\n",
       "      <th>2</th>\n",
       "      <td>M5B</td>\n",
       "      <td>Downtown Toronto</td>\n",
       "      <td>Garden District, Ryerson</td>\n",
       "      <td>43.657162</td>\n",
       "      <td>-79.378937</td>\n",
       "    </tr>\n",
       "    <tr>\n",
       "      <th>3</th>\n",
       "      <td>M5C</td>\n",
       "      <td>Downtown Toronto</td>\n",
       "      <td>St. James Town</td>\n",
       "      <td>43.651494</td>\n",
       "      <td>-79.375418</td>\n",
       "    </tr>\n",
       "    <tr>\n",
       "      <th>4</th>\n",
       "      <td>M4E</td>\n",
       "      <td>East Toronto</td>\n",
       "      <td>The Beaches</td>\n",
       "      <td>43.676357</td>\n",
       "      <td>-79.293031</td>\n",
       "    </tr>\n",
       "  </tbody>\n",
       "</table>\n",
       "</div>"
      ],
      "text/plain": [
       "  Postal Code           Borough                                Neighbourhood  \\\n",
       "0         M5A  Downtown Toronto                    Regent Park, Harbourfront   \n",
       "1         M7A  Downtown Toronto  Queen's Park, Ontario Provincial Government   \n",
       "2         M5B  Downtown Toronto                     Garden District, Ryerson   \n",
       "3         M5C  Downtown Toronto                               St. James Town   \n",
       "4         M4E      East Toronto                                  The Beaches   \n",
       "\n",
       "    Latitude  Longitude  \n",
       "0  43.654260 -79.360636  \n",
       "1  43.662301 -79.389494  \n",
       "2  43.657162 -79.378937  \n",
       "3  43.651494 -79.375418  \n",
       "4  43.676357 -79.293031  "
      ]
     },
     "execution_count": 26,
     "metadata": {},
     "output_type": "execute_result"
    }
   ],
   "source": [
    "toronto_data.head()"
   ]
  },
  {
   "cell_type": "code",
   "execution_count": 27,
   "metadata": {},
   "outputs": [
    {
     "data": {
      "text/html": [
       "<div>\n",
       "<style scoped>\n",
       "    .dataframe tbody tr th:only-of-type {\n",
       "        vertical-align: middle;\n",
       "    }\n",
       "\n",
       "    .dataframe tbody tr th {\n",
       "        vertical-align: top;\n",
       "    }\n",
       "\n",
       "    .dataframe thead th {\n",
       "        text-align: right;\n",
       "    }\n",
       "</style>\n",
       "<table border=\"1\" class=\"dataframe\">\n",
       "  <thead>\n",
       "    <tr style=\"text-align: right;\">\n",
       "      <th></th>\n",
       "      <th>Postal Code</th>\n",
       "      <th>Borough</th>\n",
       "      <th>Neighbourhood</th>\n",
       "      <th>Latitude</th>\n",
       "      <th>Longitude</th>\n",
       "    </tr>\n",
       "  </thead>\n",
       "  <tbody>\n",
       "    <tr>\n",
       "      <th>0</th>\n",
       "      <td>M5A</td>\n",
       "      <td>Downtown Toronto</td>\n",
       "      <td>Parkwoods</td>\n",
       "      <td>43.654260</td>\n",
       "      <td>-79.360636</td>\n",
       "    </tr>\n",
       "    <tr>\n",
       "      <th>1</th>\n",
       "      <td>M7A</td>\n",
       "      <td>Downtown Toronto</td>\n",
       "      <td>Victoria Village</td>\n",
       "      <td>43.662301</td>\n",
       "      <td>-79.389494</td>\n",
       "    </tr>\n",
       "    <tr>\n",
       "      <th>2</th>\n",
       "      <td>M5B</td>\n",
       "      <td>Downtown Toronto</td>\n",
       "      <td>Regent Park</td>\n",
       "      <td>43.657162</td>\n",
       "      <td>-79.378937</td>\n",
       "    </tr>\n",
       "    <tr>\n",
       "      <th>3</th>\n",
       "      <td>M5B</td>\n",
       "      <td>Downtown Toronto</td>\n",
       "      <td>Harbourfront</td>\n",
       "      <td>43.657162</td>\n",
       "      <td>-79.378937</td>\n",
       "    </tr>\n",
       "    <tr>\n",
       "      <th>4</th>\n",
       "      <td>M5C</td>\n",
       "      <td>Downtown Toronto</td>\n",
       "      <td>Lawrence Manor</td>\n",
       "      <td>43.651494</td>\n",
       "      <td>-79.375418</td>\n",
       "    </tr>\n",
       "  </tbody>\n",
       "</table>\n",
       "</div>"
      ],
      "text/plain": [
       "  Postal Code           Borough     Neighbourhood   Latitude  Longitude\n",
       "0         M5A  Downtown Toronto         Parkwoods  43.654260 -79.360636\n",
       "1         M7A  Downtown Toronto  Victoria Village  43.662301 -79.389494\n",
       "2         M5B  Downtown Toronto       Regent Park  43.657162 -79.378937\n",
       "3         M5B  Downtown Toronto      Harbourfront  43.657162 -79.378937\n",
       "4         M5C  Downtown Toronto    Lawrence Manor  43.651494 -79.375418"
      ]
     },
     "execution_count": 27,
     "metadata": {},
     "output_type": "execute_result"
    }
   ],
   "source": [
    "toronto_data1 = toronto_data.assign(Neighbourhood=df['Neighbourhood'].str.split(', ')).explode('Neighbourhood').reset_index(drop=True)\n",
    "toronto_data1.head()"
   ]
  },
  {
   "cell_type": "markdown",
   "metadata": {},
   "source": [
    "## Creating a new data frame with borough, neighbourhood and its latitude and longitude"
   ]
  },
  {
   "cell_type": "code",
   "execution_count": 30,
   "metadata": {},
   "outputs": [
    {
     "data": {
      "text/html": [
       "<div>\n",
       "<style scoped>\n",
       "    .dataframe tbody tr th:only-of-type {\n",
       "        vertical-align: middle;\n",
       "    }\n",
       "\n",
       "    .dataframe tbody tr th {\n",
       "        vertical-align: top;\n",
       "    }\n",
       "\n",
       "    .dataframe thead th {\n",
       "        text-align: right;\n",
       "    }\n",
       "</style>\n",
       "<table border=\"1\" class=\"dataframe\">\n",
       "  <thead>\n",
       "    <tr style=\"text-align: right;\">\n",
       "      <th></th>\n",
       "      <th>Borough</th>\n",
       "      <th>Neighbourhood</th>\n",
       "      <th>Latitude</th>\n",
       "      <th>Longitude</th>\n",
       "    </tr>\n",
       "  </thead>\n",
       "  <tbody>\n",
       "    <tr>\n",
       "      <th>0</th>\n",
       "      <td>Downtown Toronto</td>\n",
       "      <td>Parkwoods</td>\n",
       "      <td>43.65011</td>\n",
       "      <td>-79.38290</td>\n",
       "    </tr>\n",
       "    <tr>\n",
       "      <th>1</th>\n",
       "      <td>Downtown Toronto</td>\n",
       "      <td>Victoria Village</td>\n",
       "      <td>43.73154</td>\n",
       "      <td>-79.31428</td>\n",
       "    </tr>\n",
       "    <tr>\n",
       "      <th>2</th>\n",
       "      <td>Downtown Toronto</td>\n",
       "      <td>Regent Park</td>\n",
       "      <td>43.65947</td>\n",
       "      <td>-79.35581</td>\n",
       "    </tr>\n",
       "    <tr>\n",
       "      <th>3</th>\n",
       "      <td>Downtown Toronto</td>\n",
       "      <td>Harbourfront</td>\n",
       "      <td>43.65011</td>\n",
       "      <td>-79.38290</td>\n",
       "    </tr>\n",
       "    <tr>\n",
       "      <th>4</th>\n",
       "      <td>Downtown Toronto</td>\n",
       "      <td>Lawrence Manor</td>\n",
       "      <td>43.72294</td>\n",
       "      <td>-79.43116</td>\n",
       "    </tr>\n",
       "  </tbody>\n",
       "</table>\n",
       "</div>"
      ],
      "text/plain": [
       "            Borough     Neighbourhood  Latitude  Longitude\n",
       "0  Downtown Toronto         Parkwoods  43.65011  -79.38290\n",
       "1  Downtown Toronto  Victoria Village  43.73154  -79.31428\n",
       "2  Downtown Toronto       Regent Park  43.65947  -79.35581\n",
       "3  Downtown Toronto      Harbourfront  43.65011  -79.38290\n",
       "4  Downtown Toronto    Lawrence Manor  43.72294  -79.43116"
      ]
     },
     "execution_count": 30,
     "metadata": {},
     "output_type": "execute_result"
    }
   ],
   "source": [
    "toronto_n = pd.DataFrame(columns=['Borough','Neighbourhood','Latitude', 'Longitude'])\n",
    "for borough, neighbourhood in zip(toronto_data1['Borough'], toronto_data1['Neighbourhood']):\n",
    "    g = geocoder.arcgis('{}, {}'.format(neighbourhood,borough))\n",
    "    toronto_n = toronto_n.append({'Borough': borough,\n",
    "                                          'Neighbourhood': neighbourhood,\n",
    "                                          'Latitude': g.latlng[0],\n",
    "                                          'Longitude': g.latlng[1]}, ignore_index=True)\n",
    "toronto_n.head()"
   ]
  },
  {
   "cell_type": "code",
   "execution_count": 31,
   "metadata": {},
   "outputs": [
    {
     "name": "stdout",
     "output_type": "stream",
     "text": [
      "The dataframe has 4 boroughs and 71 neighborhoods.\n"
     ]
    }
   ],
   "source": [
    "print('The dataframe has {} boroughs and {} neighborhoods.'.format(\n",
    "        len(toronto_n['Borough'].unique()),\n",
    "        toronto_n.shape[0]\n",
    "    )\n",
    ")"
   ]
  },
  {
   "cell_type": "code",
   "execution_count": 32,
   "metadata": {},
   "outputs": [],
   "source": [
    "toronto_coordinates = geocoder.arcgis('Toronto')"
   ]
  },
  {
   "cell_type": "code",
   "execution_count": 33,
   "metadata": {},
   "outputs": [
    {
     "data": {
      "text/html": [
       "<div style=\"width:100%;\"><div style=\"position:relative;width:100%;height:0;padding-bottom:60%;\"><span style=\"color:#565656\">Make this Notebook Trusted to load map: File -> Trust Notebook</span><iframe src=\"about:blank\" style=\"position:absolute;width:100%;height:100%;left:0;top:0;border:none !important;\" data-html=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 onload=\"this.contentDocument.open();this.contentDocument.write(atob(this.getAttribute('data-html')));this.contentDocument.close();\" allowfullscreen webkitallowfullscreen mozallowfullscreen></iframe></div></div>"
      ],
      "text/plain": [
       "<folium.folium.Map at 0x232d3ce0188>"
      ]
     },
     "execution_count": 33,
     "metadata": {},
     "output_type": "execute_result"
    }
   ],
   "source": [
    "map_toronto = folium.Map(location=[toronto_coordinates.latlng[0], toronto_coordinates.latlng[1]], zoom_start=11)\n",
    "\n",
    "# add markers to map\n",
    "for lat, lng, nei, bor in zip(toronto_n['Latitude'], toronto_n['Longitude'], toronto_n['Neighbourhood'], toronto_n['Borough']):\n",
    "    label = folium.Popup('{}, {}'.format(nei,bor), parse_html=True)\n",
    "    folium.CircleMarker(\n",
    "        [lat, lng],\n",
    "        radius=5,\n",
    "        popup=label,\n",
    "        color='blue',\n",
    "        fill=True,\n",
    "        fill_color='#3186cc',\n",
    "        fill_opacity=0.7,\n",
    "        parse_html=False).add_to(map_toronto)  \n",
    "    \n",
    "map_toronto"
   ]
  },
  {
   "cell_type": "markdown",
   "metadata": {},
   "source": [
    "### Define Foursquare Credentials and Version"
   ]
  },
  {
   "cell_type": "code",
   "execution_count": 35,
   "metadata": {},
   "outputs": [],
   "source": [
    "#Define forsquare credential"
   ]
  },
  {
   "cell_type": "code",
   "execution_count": 34,
   "metadata": {},
   "outputs": [],
   "source": [
    "def get_category_type(row):\n",
    "    try:\n",
    "        categories_list = row['categories']\n",
    "    except:\n",
    "        categories_list = row['venue.categories']\n",
    "        \n",
    "    if len(categories_list) == 0:\n",
    "        return None\n",
    "    else:\n",
    "        return categories_list[0]['name']"
   ]
  },
  {
   "cell_type": "markdown",
   "metadata": {},
   "source": [
    "### Explore Neighborhoods in Toronto\n",
    "Let's borrow the function to repeat the process of getting venues and location to all the neighborhoods in Toronto"
   ]
  },
  {
   "cell_type": "code",
   "execution_count": 36,
   "metadata": {},
   "outputs": [],
   "source": [
    "def getNearbyVenues(names, latitudes, longitudes, radius=500):\n",
    "    \n",
    "    venues_list=[]\n",
    "    for name, lat, lng in zip(names, latitudes, longitudes):\n",
    "        print(name)\n",
    "            \n",
    "        # create the API request URL\n",
    "        url = 'https://api.foursquare.com/v2/venues/explore?&client_id={}&client_secret={}&v={}&ll={},{}&radius={}&limit={}'.format(\n",
    "            CLIENT_ID, \n",
    "            CLIENT_SECRET, \n",
    "            VERSION, \n",
    "            lat, \n",
    "            lng, \n",
    "            radius, \n",
    "            LIMIT)\n",
    "            \n",
    "        # make the GET request\n",
    "        results = requests.get(url).json()[\"response\"]['groups'][0]['items']\n",
    "        # return only relevant information for each nearby venue\n",
    "        venues_list.append([(\n",
    "            name, \n",
    "            lat, \n",
    "            lng, \n",
    "            v['venue']['name'], \n",
    "            v['venue']['location']['lat'], \n",
    "            v['venue']['location']['lng'],  \n",
    "            v['venue']['categories'][0]['name']) for v in results])\n",
    "\n",
    "    nearby_venues = pd.DataFrame([item for venue_list in venues_list for item in venue_list])\n",
    "    nearby_venues.columns = ['Neighbourhood', \n",
    "                  'Neighbourhood Latitude', \n",
    "                  'Neighbourhood Longitude', \n",
    "                  'Venue', \n",
    "                  'Venue Latitude', \n",
    "                  'Venue Longitude', \n",
    "                  'Venue Category']\n",
    "    \n",
    "    return(nearby_venues)"
   ]
  },
  {
   "cell_type": "code",
   "execution_count": 37,
   "metadata": {},
   "outputs": [
    {
     "name": "stdout",
     "output_type": "stream",
     "text": [
      "Parkwoods\n"
     ]
    },
    {
     "ename": "NameError",
     "evalue": "name 'CLIENT_ID' is not defined",
     "output_type": "error",
     "traceback": [
      "\u001b[1;31m---------------------------------------------------------------------------\u001b[0m",
      "\u001b[1;31mNameError\u001b[0m                                 Traceback (most recent call last)",
      "\u001b[1;32m<ipython-input-37-d5e2e4b9774e>\u001b[0m in \u001b[0;36m<module>\u001b[1;34m\u001b[0m\n\u001b[0;32m      1\u001b[0m toronto_venues = getNearbyVenues(names=toronto_n['Neighbourhood'],\n\u001b[0;32m      2\u001b[0m                                   \u001b[0mlatitudes\u001b[0m\u001b[1;33m=\u001b[0m\u001b[0mtoronto_n\u001b[0m\u001b[1;33m[\u001b[0m\u001b[1;34m'Latitude'\u001b[0m\u001b[1;33m]\u001b[0m\u001b[1;33m,\u001b[0m\u001b[1;33m\u001b[0m\u001b[1;33m\u001b[0m\u001b[0m\n\u001b[1;32m----> 3\u001b[1;33m                                    longitudes=toronto_n['Longitude'])\n\u001b[0m\u001b[0;32m      4\u001b[0m \u001b[0mtoronto_venues\u001b[0m\u001b[1;33m.\u001b[0m\u001b[0mhead\u001b[0m\u001b[1;33m(\u001b[0m\u001b[1;36m10\u001b[0m\u001b[1;33m)\u001b[0m\u001b[1;33m\u001b[0m\u001b[1;33m\u001b[0m\u001b[0m\n",
      "\u001b[1;32m<ipython-input-36-3de26b3529a7>\u001b[0m in \u001b[0;36mgetNearbyVenues\u001b[1;34m(names, latitudes, longitudes, radius)\u001b[0m\n\u001b[0;32m      7\u001b[0m         \u001b[1;31m# create the API request URL\u001b[0m\u001b[1;33m\u001b[0m\u001b[1;33m\u001b[0m\u001b[1;33m\u001b[0m\u001b[0m\n\u001b[0;32m      8\u001b[0m         url = 'https://api.foursquare.com/v2/venues/explore?&client_id={}&client_secret={}&v={}&ll={},{}&radius={}&limit={}'.format(\n\u001b[1;32m----> 9\u001b[1;33m             \u001b[0mCLIENT_ID\u001b[0m\u001b[1;33m,\u001b[0m\u001b[1;33m\u001b[0m\u001b[1;33m\u001b[0m\u001b[0m\n\u001b[0m\u001b[0;32m     10\u001b[0m             \u001b[0mCLIENT_SECRET\u001b[0m\u001b[1;33m,\u001b[0m\u001b[1;33m\u001b[0m\u001b[1;33m\u001b[0m\u001b[0m\n\u001b[0;32m     11\u001b[0m             \u001b[0mVERSION\u001b[0m\u001b[1;33m,\u001b[0m\u001b[1;33m\u001b[0m\u001b[1;33m\u001b[0m\u001b[0m\n",
      "\u001b[1;31mNameError\u001b[0m: name 'CLIENT_ID' is not defined"
     ]
    }
   ],
   "source": [
    "toronto_venues = getNearbyVenues(names=toronto_n['Neighbourhood'],\n",
    "                                  latitudes=toronto_n['Latitude'],\n",
    "                                   longitudes=toronto_n['Longitude'])\n",
    "toronto_venues.head(10)"
   ]
  },
  {
   "cell_type": "code",
   "execution_count": 38,
   "metadata": {},
   "outputs": [
    {
     "ename": "NameError",
     "evalue": "name 'toronto_venues' is not defined",
     "output_type": "error",
     "traceback": [
      "\u001b[1;31m---------------------------------------------------------------------------\u001b[0m",
      "\u001b[1;31mNameError\u001b[0m                                 Traceback (most recent call last)",
      "\u001b[1;32m<ipython-input-38-fb92d57cc5f2>\u001b[0m in \u001b[0;36m<module>\u001b[1;34m\u001b[0m\n\u001b[1;32m----> 1\u001b[1;33m \u001b[0mtoronto_venues\u001b[0m\u001b[1;33m.\u001b[0m\u001b[0mgroupby\u001b[0m\u001b[1;33m(\u001b[0m\u001b[1;34m'Neighbourhood'\u001b[0m\u001b[1;33m)\u001b[0m\u001b[1;33m.\u001b[0m\u001b[0mcount\u001b[0m\u001b[1;33m(\u001b[0m\u001b[1;33m)\u001b[0m\u001b[1;33m\u001b[0m\u001b[1;33m\u001b[0m\u001b[0m\n\u001b[0m",
      "\u001b[1;31mNameError\u001b[0m: name 'toronto_venues' is not defined"
     ]
    }
   ],
   "source": [
    "toronto_venues.groupby('Neighbourhood').count()"
   ]
  },
  {
   "cell_type": "code",
   "execution_count": 39,
   "metadata": {},
   "outputs": [
    {
     "ename": "NameError",
     "evalue": "name 'toronto_venues' is not defined",
     "output_type": "error",
     "traceback": [
      "\u001b[1;31m---------------------------------------------------------------------------\u001b[0m",
      "\u001b[1;31mNameError\u001b[0m                                 Traceback (most recent call last)",
      "\u001b[1;32m<ipython-input-39-7eba502922c0>\u001b[0m in \u001b[0;36m<module>\u001b[1;34m\u001b[0m\n\u001b[1;32m----> 1\u001b[1;33m \u001b[0mprint\u001b[0m\u001b[1;33m(\u001b[0m\u001b[1;34m'There are {} uniques categories.'\u001b[0m\u001b[1;33m.\u001b[0m\u001b[0mformat\u001b[0m\u001b[1;33m(\u001b[0m\u001b[0mlen\u001b[0m\u001b[1;33m(\u001b[0m\u001b[0mtoronto_venues\u001b[0m\u001b[1;33m[\u001b[0m\u001b[1;34m'Venue Category'\u001b[0m\u001b[1;33m]\u001b[0m\u001b[1;33m.\u001b[0m\u001b[0munique\u001b[0m\u001b[1;33m(\u001b[0m\u001b[1;33m)\u001b[0m\u001b[1;33m)\u001b[0m\u001b[1;33m)\u001b[0m\u001b[1;33m)\u001b[0m\u001b[1;33m\u001b[0m\u001b[1;33m\u001b[0m\u001b[0m\n\u001b[0m",
      "\u001b[1;31mNameError\u001b[0m: name 'toronto_venues' is not defined"
     ]
    }
   ],
   "source": [
    "print('There are {} uniques categories.'.format(len(toronto_venues['Venue Category'].unique())))"
   ]
  },
  {
   "cell_type": "markdown",
   "metadata": {},
   "source": [
    "## Analyze Each Neighborhood"
   ]
  },
  {
   "cell_type": "code",
   "execution_count": null,
   "metadata": {},
   "outputs": [],
   "source": [
    "# one hot encoding\n",
    "toronto_onehot = pd.get_dummies(toronto_venues[['Venue Category']], prefix=\"\", prefix_sep=\"\")\n",
    "\n",
    "# add neighborhood column back to dataframe\n",
    "toronto_onehot['Neighbourhood'] = toronto_venues['Neighbourhood'] \n",
    "\n",
    "# move neighborhood column to the first column\n",
    "fixed_columns = [toronto_onehot.columns[-1]] + list(toronto_onehot.columns[:-1])\n",
    "toronto_onehot = toronto_onehot[fixed_columns]\n",
    "\n",
    "toronto_onehot.head()"
   ]
  },
  {
   "cell_type": "code",
   "execution_count": null,
   "metadata": {},
   "outputs": [],
   "source": [
    "toronto_onehot.shape"
   ]
  },
  {
   "cell_type": "markdown",
   "metadata": {},
   "source": [
    "#### Next, let's group rows by neighborhood and by taking the mean of the frequency of occurrence of each category"
   ]
  },
  {
   "cell_type": "code",
   "execution_count": null,
   "metadata": {},
   "outputs": [],
   "source": [
    "toronto_grouped = toronto_onehot.groupby('Neighbourhood').mean().reset_index()\n",
    "toronto_grouped.head(10)"
   ]
  },
  {
   "cell_type": "code",
   "execution_count": null,
   "metadata": {},
   "outputs": [],
   "source": [
    "toronto_grouped.shape"
   ]
  },
  {
   "cell_type": "code",
   "execution_count": null,
   "metadata": {},
   "outputs": [],
   "source": [
    "num_top_venues = 5\n",
    "\n",
    "for hood in toronto_grouped['Neighbourhood']:\n",
    "    print(\"----\"+hood+\"----\")\n",
    "    temp = toronto_grouped[toronto_grouped['Neighbourhood'] == hood].T.reset_index()\n",
    "    temp.columns = ['venue','freq']\n",
    "    temp = temp.iloc[1:]\n",
    "    temp['freq'] = temp['freq'].astype(float)\n",
    "    temp = temp.round({'freq': 2})\n",
    "    print(temp.sort_values('freq', ascending=False).reset_index(drop=True).head(num_top_venues))\n",
    "    print('\\n')"
   ]
  },
  {
   "cell_type": "code",
   "execution_count": null,
   "metadata": {},
   "outputs": [],
   "source": [
    "def return_most_common_venues(row, num_top_venues):\n",
    "    row_categories = row.iloc[1:]\n",
    "    row_categories_sorted = row_categories.sort_values(ascending=False)\n",
    "    \n",
    "    return row_categories_sorted.index.values[0:num_top_venues]"
   ]
  },
  {
   "cell_type": "code",
   "execution_count": null,
   "metadata": {},
   "outputs": [],
   "source": [
    "num_top_venues = 10\n",
    "\n",
    "indicators = ['st', 'nd', 'rd']\n",
    "\n",
    "# create columns according to number of top venues\n",
    "columns = ['Neighbourhood']\n",
    "for ind in np.arange(num_top_venues):\n",
    "    try:\n",
    "        columns.append('{}{} Most Common Venue'.format(ind+1, indicators[ind]))\n",
    "    except:\n",
    "        columns.append('{}th Most Common Venue'.format(ind+1))\n",
    "\n",
    "# create a new dataframe\n",
    "neighborhoods_venues_sorted = pd.DataFrame(columns=columns)\n",
    "neighborhoods_venues_sorted['Neighbourhood'] = toronto_grouped['Neighbourhood']\n",
    "\n",
    "for ind in np.arange(toronto_grouped.shape[0]):\n",
    "    neighborhoods_venues_sorted.iloc[ind, 1:] = return_most_common_venues(toronto_grouped.iloc[ind, :], num_top_venues)\n",
    "\n",
    "neighborhoods_venues_sorted.head(10)"
   ]
  },
  {
   "cell_type": "markdown",
   "metadata": {},
   "source": [
    "### Cluster Neighborhoods"
   ]
  },
  {
   "cell_type": "code",
   "execution_count": null,
   "metadata": {},
   "outputs": [],
   "source": [
    "# set number of clusters\n",
    "kclusters = 4\n",
    "\n",
    "toronto_grouped_clustering = toronto_grouped.drop('Neighbourhood', 1)\n",
    "\n",
    "# run k-means clustering\n",
    "kmeans = KMeans(n_clusters=kclusters, random_state=0).fit(toronto_grouped_clustering)\n",
    "\n",
    "# check cluster labels generated for each row in the dataframe\n",
    "kmeans.labels_[0:10]"
   ]
  },
  {
   "cell_type": "code",
   "execution_count": null,
   "metadata": {},
   "outputs": [],
   "source": [
    "# add clustering labels\n",
    "neighborhoods_venues_sorted.insert(0, 'Cluster Labels', kmeans.labels_)"
   ]
  },
  {
   "cell_type": "code",
   "execution_count": null,
   "metadata": {},
   "outputs": [],
   "source": [
    "toronto_merged = toronto_n\n",
    "\n",
    "# merge toronto_grouped with manhattan_data to add latitude/longitude for each neighborhood\n",
    "toronto_merged = toronto_merged.join(neighborhoods_venues_sorted.set_index('Neighbourhood'), on='Neighbourhood')\n",
    "\n",
    "toronto_merged.head(10) # check the last columns!"
   ]
  },
  {
   "cell_type": "code",
   "execution_count": null,
   "metadata": {},
   "outputs": [],
   "source": [
    "print(toronto_merged.shape)\n",
    "toronto_merged.dropna(inplace= True)\n",
    "print(toronto_merged.shape)"
   ]
  },
  {
   "cell_type": "code",
   "execution_count": null,
   "metadata": {},
   "outputs": [],
   "source": [
    "# Matplotlib and associated plotting modules\n",
    "import matplotlib.cm as cm\n",
    "import matplotlib.colors as colors\n",
    "\n",
    "# create map\n",
    "map_clusters = folium.Map(location=[toronto_coordinates.latlng[0], toronto_coordinates.latlng[1]], zoom_start=11)\n",
    "\n",
    "# set color scheme for the clusters\n",
    "x = np.arange(kclusters)\n",
    "ys = [i + x + (i*x)**2 for i in range(kclusters)]\n",
    "colors_array = cm.rainbow(np.linspace(0, 1, len(ys)))\n",
    "rainbow = [colors.rgb2hex(i) for i in colors_array]\n",
    "\n",
    "# add markers to the map\n",
    "markers_colors = []\n",
    "for lat, lon, poi, cluster in zip(toronto_merged['Latitude'], toronto_merged['Longitude'], toronto_merged['Neighbourhood'], toronto_merged['Cluster Labels']):\n",
    "    label = folium.Popup(str(poi) + ' Cluster ' + str(cluster), parse_html=True)\n",
    "    cluster_int = int(cluster-1)\n",
    "    folium.CircleMarker(\n",
    "        [lat, lon],\n",
    "        radius=5,\n",
    "        popup=label,\n",
    "        color=rainbow[cluster_int],\n",
    "        fill=True,\n",
    "        fill_color=rainbow[cluster_int],\n",
    "        fill_opacity=0.7).add_to(map_clusters)\n",
    "       \n",
    "map_clusters"
   ]
  },
  {
   "cell_type": "code",
   "execution_count": null,
   "metadata": {},
   "outputs": [],
   "source": [
    "toronto_merged.loc[toronto_merged['Cluster Labels'] == 0, toronto_merged.columns[[1] + list(range(5, toronto_merged.shape[1]))]]"
   ]
  },
  {
   "cell_type": "code",
   "execution_count": null,
   "metadata": {},
   "outputs": [],
   "source": [
    "toronto_merged.loc[toronto_merged['Cluster Labels'] == 1, toronto_merged.columns[[1] + list(range(5, toronto_merged.shape[1]))]]"
   ]
  },
  {
   "cell_type": "code",
   "execution_count": null,
   "metadata": {},
   "outputs": [],
   "source": [
    "toronto_merged.loc[toronto_merged['Cluster Labels'] == 2, toronto_merged.columns[[1] + list(range(5, toronto_merged.shape[1]))]]"
   ]
  },
  {
   "cell_type": "code",
   "execution_count": null,
   "metadata": {},
   "outputs": [],
   "source": [
    "toronto_merged.loc[toronto_merged['Cluster Labels'] == 3, toronto_merged.columns[[1] + list(range(5, toronto_merged.shape[1]))]]"
   ]
  },
  {
   "cell_type": "code",
   "execution_count": null,
   "metadata": {},
   "outputs": [],
   "source": []
  },
  {
   "cell_type": "code",
   "execution_count": null,
   "metadata": {},
   "outputs": [],
   "source": []
  }
 ],
 "metadata": {
  "kernelspec": {
   "display_name": "Python 3",
   "language": "python",
   "name": "python3"
  },
  "language_info": {
   "codemirror_mode": {
    "name": "ipython",
    "version": 3
   },
   "file_extension": ".py",
   "mimetype": "text/x-python",
   "name": "python",
   "nbconvert_exporter": "python",
   "pygments_lexer": "ipython3",
   "version": "3.7.6"
  }
 },
 "nbformat": 4,
 "nbformat_minor": 4
}
