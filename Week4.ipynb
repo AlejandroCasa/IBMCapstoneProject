{
 "cells": [
  {
   "cell_type": "markdown",
   "metadata": {},
   "source": [
    "# Using Data Science for comparison between Barcelona and Madrid"
   ]
  },
  {
   "cell_type": "markdown",
   "metadata": {},
   "source": [
    "## 1. Introduction\n",
    "\n",
    "Madrid and Barcelona are the 2 largest cities in Spain. While Madrid is the capital of the country and historically is much older, Barcelona grew a lot from the 19th century. Currently, between the two cities there is a great rivalry both politically, economically and sportingly. For this reason, and for being the two cities in which I have lived the longest, I have decided to compare them.\n"
   ]
  },
  {
   "cell_type": "markdown",
   "metadata": {},
   "source": [
    "## 2. Problem Definition\n",
    "\n",
    "Data science has a potential to tell us what people won't be able to notice and what is not written in books or magazines. The aim of this project is to provide new insights to tourists who are interested in Spain or to travel agencies who publish books or provide information on the internet.\n"
   ]
  },
  {
   "cell_type": "markdown",
   "metadata": {},
   "source": [
    "## 3. Data Description\n",
    "\n",
    "As I have said before, Madrid is the capital of Spain. It is known for being the largest city in Spain and the most populated. It is divided into 22 districts. On the other hand, Barcelona is an important merchant port and a great tourist destination. Barcelona is divided into 10 districts. I will use clustering analysis methodology for each district. In addition, below is basic comparison of Madrid and Barcelona, which could complement the results of data analysis (although I won't use these info in Python programming).\n",
    "\n",
    "||Madrid|Barcelona|\n",
    "|:-|:-|:-|\n",
    "|Population|3,223,334|1,620,343|\n",
    "|Area|604.31km2|101.4km2|\n",
    "|Population Density|5,300/km2|16,000/km2|\n",
    "|Districts|21|10|\n",
    "\n",
    "## 3.1 Data Source\n",
    "For data source, names of all districs in Madrid and Barcelona are necessary. Below Wikipedia pages provides the data as a table structure. There are so many information and data on these pages but the process for scraping is simplified thanks to Python BeautifulSoup library."
   ]
  },
  {
   "cell_type": "markdown",
   "metadata": {},
   "source": [
    "**Madrid city**  \n",
    "https://en.wikipedia.org/wiki/Madrid\n",
    "https://en.wikipedia.org/wiki/Districts_of_Madrid\n",
    "\n",
    "![madrid.png](attachment:500px-Madrid._Distritos.svg.png)"
   ]
  },
  {
   "cell_type": "markdown",
   "metadata": {},
   "source": [
    "**Barcelona city**  \n",
    "https://en.wikipedia.org/wiki/Barcelona\n",
    "https://en.wikipedia.org/wiki/Districts_of_Barcelona\n",
    "\n",
    "![barcelona.png](attachment:barcelona.png)"
   ]
  },
  {
   "cell_type": "code",
   "execution_count": null,
   "metadata": {},
   "outputs": [],
   "source": []
  }
 ],
 "metadata": {
  "kernelspec": {
   "display_name": "Python 3",
   "language": "python",
   "name": "python3"
  },
  "language_info": {
   "codemirror_mode": {
    "name": "ipython",
    "version": 3
   },
   "file_extension": ".py",
   "mimetype": "text/x-python",
   "name": "python",
   "nbconvert_exporter": "python",
   "pygments_lexer": "ipython3",
   "version": "3.7.6"
  }
 },
 "nbformat": 4,
 "nbformat_minor": 4
}
